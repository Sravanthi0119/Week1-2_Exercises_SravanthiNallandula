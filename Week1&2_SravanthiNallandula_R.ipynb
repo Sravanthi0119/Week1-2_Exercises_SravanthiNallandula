{
 "cells": [
  {
   "cell_type": "markdown",
   "id": "eaee35c5",
   "metadata": {},
   "source": [
    "# Week1&2 Exercises in R"
   ]
  },
  {
   "cell_type": "code",
   "execution_count": 3,
   "id": "1e5451cf",
   "metadata": {
    "scrolled": true
   },
   "outputs": [
    {
     "name": "stderr",
     "output_type": "stream",
     "text": [
      "also installing the dependencies 'processx', 'diffobj', 'rematch2', 'brio', 'callr', 'cli', 'desc', 'ellipsis', 'lifecycle', 'pkgload', 'praise', 'ps', 'rlang', 'waldo', 'withr', 'rex', 'rJava', 'xlsxjars', 'rprojroot', 'testthat', 'covr'\n",
      "\n"
     ]
    },
    {
     "name": "stdout",
     "output_type": "stream",
     "text": [
      "\n",
      "  There are binary versions available but the source versions are later:\n",
      "          binary source needs_compilation\n",
      "processx   3.5.2  3.7.0              TRUE\n",
      "diffobj    0.3.4  0.3.5              TRUE\n",
      "brio       1.1.2  1.1.3              TRUE\n",
      "callr      3.7.0  3.7.2             FALSE\n",
      "cli        2.5.0  3.4.0              TRUE\n",
      "desc       1.3.0  1.4.2             FALSE\n",
      "lifecycle  1.0.0  1.0.2             FALSE\n",
      "pkgload    1.2.1  1.3.0             FALSE\n",
      "ps         1.6.0  1.7.1              TRUE\n",
      "rlang     0.4.11  1.0.5              TRUE\n",
      "waldo      0.2.5  0.4.0             FALSE\n",
      "withr      2.4.2  2.5.0             FALSE\n",
      "rex        1.2.0  1.2.1             FALSE\n",
      "rJava      1.0-4  1.0-6              TRUE\n",
      "rprojroot  2.0.2  2.0.3             FALSE\n",
      "testthat   3.0.2  3.1.4              TRUE\n",
      "covr       3.5.1  3.6.1              TRUE\n",
      "\n",
      "  Binaries will be installed\n",
      "package 'processx' successfully unpacked and MD5 sums checked\n",
      "package 'diffobj' successfully unpacked and MD5 sums checked\n",
      "package 'rematch2' successfully unpacked and MD5 sums checked\n",
      "package 'brio' successfully unpacked and MD5 sums checked\n",
      "package 'cli' successfully unpacked and MD5 sums checked\n",
      "package 'ellipsis' successfully unpacked and MD5 sums checked\n",
      "package 'praise' successfully unpacked and MD5 sums checked\n",
      "package 'ps' successfully unpacked and MD5 sums checked\n",
      "package 'rlang' successfully unpacked and MD5 sums checked\n",
      "package 'rJava' successfully unpacked and MD5 sums checked\n",
      "package 'xlsxjars' successfully unpacked and MD5 sums checked\n",
      "package 'testthat' successfully unpacked and MD5 sums checked\n",
      "package 'covr' successfully unpacked and MD5 sums checked\n",
      "package 'xlsx' successfully unpacked and MD5 sums checked\n",
      "\n",
      "The downloaded binary packages are in\n",
      "\tC:\\Users\\Sravanthi\\AppData\\Local\\Temp\\RtmpI597wp\\downloaded_packages\n"
     ]
    },
    {
     "name": "stderr",
     "output_type": "stream",
     "text": [
      "installing the source packages 'callr', 'desc', 'lifecycle', 'pkgload', 'waldo', 'withr', 'rex', 'rprojroot'\n",
      "\n",
      "Warning message in install.packages(\"xlsx\", dependencies = TRUE):\n",
      "\"installation of package 'callr' had non-zero exit status\"Warning message in install.packages(\"xlsx\", dependencies = TRUE):\n",
      "\"installation of package 'lifecycle' had non-zero exit status\"Warning message in install.packages(\"xlsx\", dependencies = TRUE):\n",
      "\"installation of package 'waldo' had non-zero exit status\"Warning message in install.packages(\"xlsx\", dependencies = TRUE):\n",
      "\"installation of package 'pkgload' had non-zero exit status\""
     ]
    }
   ],
   "source": [
    "install.packages(\"xlsx\", dependencies = TRUE)"
   ]
  },
  {
   "cell_type": "code",
   "execution_count": 13,
   "id": "d37faba7",
   "metadata": {},
   "outputs": [
    {
     "data": {
      "text/html": [
       "<table>\n",
       "<thead><tr><th scope=col>Issue</th><th scope=col>Approve</th><th scope=col>Disapprove</th><th scope=col>None</th></tr></thead>\n",
       "<tbody>\n",
       "\t<tr><td>Race Relations          </td><td>52                      </td><td>38                      </td><td>10                      </td></tr>\n",
       "\t<tr><td>Education               </td><td>49                      </td><td>40                      </td><td>11                      </td></tr>\n",
       "\t<tr><td>Terrorism               </td><td>48                      </td><td>45                      </td><td> 7                      </td></tr>\n",
       "\t<tr><td>Energy Policy           </td><td>47                      </td><td>42                      </td><td>11                      </td></tr>\n",
       "\t<tr><td>Foreign Affairs         </td><td>44                      </td><td>48                      </td><td> 8                      </td></tr>\n",
       "\t<tr><td>Environment             </td><td>43                      </td><td>51                      </td><td> 6                      </td></tr>\n",
       "\t<tr><td>Situation in Iraq       </td><td>41                      </td><td>53                      </td><td> 6                      </td></tr>\n",
       "\t<tr><td>Taxes                   </td><td>41                      </td><td>54                      </td><td> 5                      </td></tr>\n",
       "\t<tr><td>Healthcare Policy       </td><td>40                      </td><td>57                      </td><td> 3                      </td></tr>\n",
       "\t<tr><td>Economy                 </td><td>38                      </td><td>59                      </td><td> 3                      </td></tr>\n",
       "\t<tr><td>Situation in Afghanistan</td><td>36                      </td><td>57                      </td><td> 7                      </td></tr>\n",
       "\t<tr><td>Federal Budget Deficit  </td><td>31                      </td><td>64                      </td><td> 5                      </td></tr>\n",
       "\t<tr><td>Immigration             </td><td>29                      </td><td>62                      </td><td> 9                      </td></tr>\n",
       "</tbody>\n",
       "</table>\n"
      ],
      "text/latex": [
       "\\begin{tabular}{r|llll}\n",
       " Issue & Approve & Disapprove & None\\\\\n",
       "\\hline\n",
       "\t Race Relations           & 52                       & 38                       & 10                      \\\\\n",
       "\t Education                & 49                       & 40                       & 11                      \\\\\n",
       "\t Terrorism                & 48                       & 45                       &  7                      \\\\\n",
       "\t Energy Policy            & 47                       & 42                       & 11                      \\\\\n",
       "\t Foreign Affairs          & 44                       & 48                       &  8                      \\\\\n",
       "\t Environment              & 43                       & 51                       &  6                      \\\\\n",
       "\t Situation in Iraq        & 41                       & 53                       &  6                      \\\\\n",
       "\t Taxes                    & 41                       & 54                       &  5                      \\\\\n",
       "\t Healthcare Policy        & 40                       & 57                       &  3                      \\\\\n",
       "\t Economy                  & 38                       & 59                       &  3                      \\\\\n",
       "\t Situation in Afghanistan & 36                       & 57                       &  7                      \\\\\n",
       "\t Federal Budget Deficit   & 31                       & 64                       &  5                      \\\\\n",
       "\t Immigration              & 29                       & 62                       &  9                      \\\\\n",
       "\\end{tabular}\n"
      ],
      "text/markdown": [
       "\n",
       "| Issue | Approve | Disapprove | None |\n",
       "|---|---|---|---|\n",
       "| Race Relations           | 52                       | 38                       | 10                       |\n",
       "| Education                | 49                       | 40                       | 11                       |\n",
       "| Terrorism                | 48                       | 45                       |  7                       |\n",
       "| Energy Policy            | 47                       | 42                       | 11                       |\n",
       "| Foreign Affairs          | 44                       | 48                       |  8                       |\n",
       "| Environment              | 43                       | 51                       |  6                       |\n",
       "| Situation in Iraq        | 41                       | 53                       |  6                       |\n",
       "| Taxes                    | 41                       | 54                       |  5                       |\n",
       "| Healthcare Policy        | 40                       | 57                       |  3                       |\n",
       "| Economy                  | 38                       | 59                       |  3                       |\n",
       "| Situation in Afghanistan | 36                       | 57                       |  7                       |\n",
       "| Federal Budget Deficit   | 31                       | 64                       |  5                       |\n",
       "| Immigration              | 29                       | 62                       |  9                       |\n",
       "\n"
      ],
      "text/plain": [
       "   Issue                    Approve Disapprove None\n",
       "1  Race Relations           52      38         10  \n",
       "2  Education                49      40         11  \n",
       "3  Terrorism                48      45          7  \n",
       "4  Energy Policy            47      42         11  \n",
       "5  Foreign Affairs          44      48          8  \n",
       "6  Environment              43      51          6  \n",
       "7  Situation in Iraq        41      53          6  \n",
       "8  Taxes                    41      54          5  \n",
       "9  Healthcare Policy        40      57          3  \n",
       "10 Economy                  38      59          3  \n",
       "11 Situation in Afghanistan 36      57          7  \n",
       "12 Federal Budget Deficit   31      64          5  \n",
       "13 Immigration              29      62          9  "
      ]
     },
     "metadata": {},
     "output_type": "display_data"
    }
   ],
   "source": [
    "# Importing necessary packages\n",
    "library('magrittr')\n",
    "\n",
    "Data = paste(getwd(), '/obama-approval-ratings.xls', sep = '')\n",
    "Obama_Ratings = xlsx::read.xlsx(Data, sheetIndex = 1, stringsAsFactors = FALSE)\n",
    "\n",
    "# Examine data\n",
    "Obama_Ratings"
   ]
  },
  {
   "cell_type": "code",
   "execution_count": 16,
   "id": "37ce4ccf",
   "metadata": {},
   "outputs": [],
   "source": [
    "library(ggplot2)"
   ]
  },
  {
   "cell_type": "markdown",
   "id": "f47769b2",
   "metadata": {},
   "source": [
    "#### Barchart - R"
   ]
  },
  {
   "cell_type": "code",
   "execution_count": null,
   "id": "311eb95c",
   "metadata": {},
   "outputs": [],
   "source": [
    "#Plotting bar chart for Issue and Disapproval rate"
   ]
  },
  {
   "cell_type": "code",
   "execution_count": 17,
   "id": "51d31674",
   "metadata": {},
   "outputs": [
    {
     "data": {
      "image/png": "[encoded data removed]",
      "text/plain": [
       "plot without title"
      ]
     },
     "metadata": {},
     "output_type": "display_data"
    }
   ],
   "source": [
    "Obama_Ratings %>%\n",
    "    dplyr::select(Issue, Disapprove) %>%\n",
    "    dplyr::arrange(-Disapprove) %>%\n",
    "    dplyr::mutate(SortOrder = factor(Issue, Issue)) %>% \n",
    "    ggplot2::ggplot(ggplot2::aes(x=SortOrder, y=Disapprove, fill=Issue)) +\n",
    "        ggplot2::geom_bar(stat='identity', color='black') + \n",
    "        ggplot2::xlab('Issue') + ggplot2::ylab('Disapproval Count') +\n",
    "        ggplot2::theme(axis.text.x=element_blank()) +\n",
    "        ggplot2::ggtitle('Disapproval Rating of Obama')"
   ]
  },
  {
   "cell_type": "markdown",
   "id": "f65ccba8",
   "metadata": {},
   "source": [
    "#### Stacked Bar Chart - R"
   ]
  },
  {
   "cell_type": "code",
   "execution_count": 20,
   "id": "c184d6ec",
   "metadata": {},
   "outputs": [
    {
     "data": {
      "image/png": "[encoded data removed]",
      "text/plain": [
       "plot without title"
      ]
     },
     "metadata": {},
     "output_type": "display_data"
    }
   ],
   "source": [
    "#Plotting stacked bar chart for issue and all the genres of approval\n",
    "Obama_Ratings_long = Obama_Ratings %>%\n",
    "    tidyr::gather('Reaction','Ratings', Approve, Disapprove, None)\n",
    "\n",
    "# Plot stacked\n",
    "ggplot2::ggplot(data = Obama_Ratings_long, ggplot2::aes(x = Issue, y = Ratings, fill = Reaction)) + \n",
    "    ggplot2:: geom_bar(stat='identity') + \n",
    "    ggplot2::theme(axis.text.x = element_text(angle = 90, hjust = 1)) + \n",
    "    ggplot2::scale_fill_brewer(palette = 17)"
   ]
  },
  {
   "cell_type": "markdown",
   "id": "7b211f90",
   "metadata": {},
   "source": [
    "#### Pie Chart - R"
   ]
  },
  {
   "cell_type": "code",
   "execution_count": 21,
   "id": "c7ddb88b",
   "metadata": {},
   "outputs": [
    {
     "data": {
      "image/png": "[encoded data removed]",
      "text/plain": [
       "plot without title"
      ]
     },
     "metadata": {},
     "output_type": "display_data"
    }
   ],
   "source": [
    "#Plotting pie chart for Environment issue and all genres of ratings\n",
    "Obama_Ratings_long %>%\n",
    "    dplyr::filter(Issue=='Environment') %>%\n",
    "    ggplot2::ggplot(ggplot2::aes(x=\"\", y=Ratings, fill=Reaction))+\n",
    "        ggplot2::geom_bar(width = 1, stat = 'identity') +\n",
    "        ggplot2::coord_polar('y', start=0) + \n",
    "        ggplot2::geom_text(aes(label = Ratings), position = position_stack(vjust = 0.5)) +\n",
    "        ggplot2::ggtitle(label = 'Reaction on Environment Issue in Obama Era') +\n",
    "        ggplot2::scale_fill_brewer(palette='Spectral') + \n",
    "        ggplot2::theme(axis.line = element_blank(),\n",
    "          axis.text = element_blank(),\n",
    "          axis.ticks = element_blank(),\n",
    "          plot.title = element_text(hjust = 0.5))"
   ]
  },
  {
   "cell_type": "markdown",
   "id": "1665cc51",
   "metadata": {},
   "source": [
    "#### Donut chart - R"
   ]
  },
  {
   "cell_type": "code",
   "execution_count": 22,
   "id": "0456d1d4",
   "metadata": {},
   "outputs": [
    {
     "data": {
      "image/png": "[encoded data removed]",
      "text/plain": [
       "plot without title"
      ]
     },
     "metadata": {},
     "output_type": "display_data"
    }
   ],
   "source": [
    "#Plotting Donut chart for Terrorism issue in all genres of rating\n",
    "Obama_Ratings_long %>%\n",
    "    dplyr::filter(Issue=='Terrorism') %>%\n",
    "    dplyr::mutate(ymax=cumsum(Ratings),\n",
    "                  ymin=c(0,ymax[1:length(ymax)-1])) %>%\n",
    "    ggplot2::ggplot(ggplot2::aes(fill=Reaction, ymax=ymax, ymin=ymin, xmax=4, xmin=3)) +\n",
    "         ggplot2::geom_rect() +\n",
    "         ggplot2::coord_polar(theta='y') +\n",
    "         ggplot2::xlim(c(0, 4)) +\n",
    "         ggplot2::theme(panel.grid=element_blank()) +\n",
    "         ggplot2::theme(axis.text=element_blank()) +\n",
    "         ggplot2::theme(axis.ticks=element_blank()) +\n",
    "         ggplot2::annotate('text', x = 0, y = 0, label = 'Reaction on Terrorism') +\n",
    "         ggplot2::labs(title='')"
   ]
  }
 ],
 "metadata": {
  "kernelspec": {
   "display_name": "R",
   "language": "R",
   "name": "ir"
  },
  "language_info": {
   "codemirror_mode": "r",
   "file_extension": ".r",
   "mimetype": "text/x-r-source",
   "name": "R",
   "pygments_lexer": "r",
   "version": "3.6.1"
  }
 },
 "nbformat": 4,
 "nbformat_minor": 5
}
